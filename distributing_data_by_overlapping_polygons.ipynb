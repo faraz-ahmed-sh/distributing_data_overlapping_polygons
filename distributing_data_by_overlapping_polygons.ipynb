{
 "cells": [
  {
   "cell_type": "code",
   "execution_count": 27,
   "metadata": {},
   "outputs": [],
   "source": [
    "import pandas as pd\n",
    "import geopandas\n",
    "from shapely.geometry import Point\n",
    "import matplotlib.pyplot as plt\n",
    "import requests\n",
    "import fiona\n",
    "pd.set_option('display.float_format', lambda x: '%.3f' % x)"
   ]
  },
  {
   "cell_type": "markdown",
   "metadata": {},
   "source": [
    "### Background"
   ]
  },
  {
   "cell_type": "markdown",
   "metadata": {},
   "source": [
    "- The code in this notebook was originally used to come up with a method (\"land area spatial overlap\") to distribute the American Community Survey (ACS) data from the Census Tract level to the Election District level in NYC. The land area spatial overlap method calculates how much one level of geographical area shares boundaries with another level of geographical area.\n",
    "- The ACS information at the election districts can be used to understand what poll sites (made up of a combination of election districts), for example, will benefit most from language interpretation services (data on limited English proficiency (LEP) is one of the variables in the ACS data).\n",
    "- While this method does not take into account the population density of an area in proportioning data from one area to another, it is still a highly useful and relevant method, especially when the data on population density does not exist or if one area is not a perfect subset of another.\n",
    "- The code below uses open datasets to demonstrate an open source solution of this method. It can be used to apportion data between any geographic levels. "
   ]
  },
  {
   "cell_type": "markdown",
   "metadata": {},
   "source": [
    "#### Packages to install:\n",
    "- geopandas, pandas, numpy, pyproj, six, fiona, shapely, rtree\n",
    "\n",
    "#### Geopandas has dependencies and it can be tricky to make all of them work. Recommended installation methods:\n",
    "1. install using \"conda-forge\" community (conda install conda-forge geopandas, fiona, shapely, rtree)\n",
    "2. or create a virtual environment after installing OSMnx (python package to download/install geospatial data from Open Street Map)\n",
    " - install using conda config --prepend channels conda-forge\n",
    " - conda create -n ox --strict-channel-priority osmnx\n",
    " - activate conda ox\n",
    " - conda install jupyter\n",
    " - jupyter notebook"
   ]
  },
  {
   "cell_type": "markdown",
   "metadata": {},
   "source": [
    "### 1. Import Election Districts Data and Census Tracts Data (as of Decennial Census 2010) from the NYC Open Data Portal."
   ]
  },
  {
   "cell_type": "markdown",
   "metadata": {},
   "source": [
    "[Election Districts](https://data.cityofnewyork.us/City-Government/Election-Districts/h2n3-98hq): The geographical area used by the NY State Board of Elections to determine placement of poll sites. There are 5,840 election districts that roll up to over 1,000 poll sites in Primary and General election periods in NYC."
   ]
  },
  {
   "cell_type": "markdown",
   "metadata": {},
   "source": [
    "[Census Tracts](https://data.cityofnewyork.us/City-Government/2010-Census-Tracts/fxpq-c8ku): The census tracts are small, permanent geographical unit of a county or its geographical equivalent. According to the Census Bureau, the number of people that reside in a census tract is between 1,200 and 8,000. Per Decennial 2010, there are 2,168 census tracts in NYC. \n",
    "\n",
    "Analyzing data for smaller geographies can allow for better analysis and census tracts tend to be great in that sense. However, their results should be interpreted with caution when using ACS estimates due to its small sample size.\n",
    "\n",
    "Variables of interest:\n",
    "- boro_code: A code associated with each of the five boroughs. (Manhattan = 1, Bronx=2, Brooklyn=3, Queens=4, Staten Island=5)\n",
    "- boro_ct2010: a unique identifier for each census tract number given that a census tract number may not be unique.\n",
    "- boro_name: name of one of the five boroughs of NYC\n",
    "- ct2010: census tract number\n",
    "- ctlabel: truncated census tract number"
   ]
  },
  {
   "cell_type": "markdown",
   "metadata": {},
   "source": [
    "### Goal: What is the proportion of area occupied by an election district within a census tract?"
   ]
  },
  {
   "cell_type": "markdown",
   "metadata": {},
   "source": [
    " "
   ]
  },
  {
   "cell_type": "markdown",
   "metadata": {},
   "source": [
    "### 1.1. Import Election Districts Shapefile (clipped to the shore) from NYC Open Data.  *Source: Decennial Census 2010*"
   ]
  },
  {
   "cell_type": "code",
   "execution_count": 28,
   "metadata": {},
   "outputs": [],
   "source": [
    "def import_shapefile_and_area_in_sqkm(four_by_four_code):\n",
    "    '''\n",
    "    Import a shapefile and calculate the area in square kilometer for each tile. \n",
    "    \n",
    "    Input:\n",
    "        - four_by_four_code: a string that contains 8 alphanumeric letters assigned \n",
    "           to each open dataset on NYC Open Data Portal.\n",
    "    \n",
    "    Returns:\n",
    "        - a geopandas dataframe.\n",
    "    \n",
    "    '''\n",
    "    \n",
    "    # import the shapefile as GeoJSON from the open data portal\n",
    "    request = requests.get(\"https://data.cityofnewyork.us/api/geospatial/\" + \\\n",
    "                           four_by_four_code + \"?method=export&format=GeoJSON\")\n",
    "    \n",
    "    visz = fiona.ogrext.buffer_to_virtual_file(bytes(request.content))\n",
    "    \n",
    "    # read the features from a fiona collection into a GeoDataFrame\n",
    "    with fiona.Collection(visz, driver='GeoJSON') as f:\n",
    "        nyc_opendata_gpd = geopandas.GeoDataFrame.from_features(f, crs=f.crs)\n",
    "    \n",
    "    #***************************************#\n",
    "    \n",
    "    #Projection: how should geopandas intepret the coordinates?\n",
    "    \n",
    "    print(\"coordinate reference system of the shapefile: \", nyc_opendata_gpd.crs)\n",
    "    \n",
    "    # change projection to Mercator, and then square meter into square kilometer\n",
    "    \n",
    "    # source: https://gis.stackexchange.com/questions/218450/getting-polygon-areas-using-geopandas\n",
    "    nyc_opendata_gpd['area_in_sqkm'] = nyc_opendata_gpd['geometry'].to_crs({'init': 'epsg:3395'})\\\n",
    "                   .map(lambda p: p.area / 10**6)\n",
    "    \n",
    "    #alternative method: convert the cartesian system into an equal projection area\n",
    "    # nyc_opendata_gpd['area_in_sqkm_cea'] = nyc_opendata_gpd['geometry'].to_crs({'proj':'cea'})\n",
    "    \n",
    "    return nyc_opendata_gpd"
   ]
  },
  {
   "cell_type": "markdown",
   "metadata": {},
   "source": [
    "![Some Projections](img/projections.jpg)"
   ]
  },
  {
   "cell_type": "code",
   "execution_count": 29,
   "metadata": {},
   "outputs": [
    {
     "name": "stderr",
     "output_type": "stream",
     "text": [
      "C:\\Users\\FAhmed\\AppData\\Local\\Continuum\\anaconda3\\envs\\ox\\lib\\site-packages\\pyproj\\crs\\crs.py:131: FutureWarning: '+init=<authority>:<code>' syntax is deprecated. '<authority>:<code>' is the preferred initialization method. When making the change, be mindful of axis order changes: https://pyproj4.github.io/pyproj/stable/gotchas.html#axis-order-changes-in-proj-6\n",
      "  in_crs_string = _prepare_from_proj_string(in_crs_string)\n",
      "C:\\Users\\FAhmed\\AppData\\Local\\Continuum\\anaconda3\\envs\\ox\\lib\\site-packages\\pyproj\\crs\\crs.py:131: FutureWarning: '+init=<authority>:<code>' syntax is deprecated. '<authority>:<code>' is the preferred initialization method. When making the change, be mindful of axis order changes: https://pyproj4.github.io/pyproj/stable/gotchas.html#axis-order-changes-in-proj-6\n",
      "  in_crs_string = _prepare_from_proj_string(in_crs_string)\n"
     ]
    },
    {
     "name": "stdout",
     "output_type": "stream",
     "text": [
      "coordinate reference system of the shapefile:  +init=epsg:4326 +type=crs\n"
     ]
    }
   ],
   "source": [
    "ed_nyc_od_gpd = import_shapefile_and_area_in_sqkm(\"h2n3-98hq\")"
   ]
  },
  {
   "cell_type": "code",
   "execution_count": 30,
   "metadata": {},
   "outputs": [
    {
     "data": {
      "text/html": [
       "<div>\n",
       "<style scoped>\n",
       "    .dataframe tbody tr th:only-of-type {\n",
       "        vertical-align: middle;\n",
       "    }\n",
       "\n",
       "    .dataframe tbody tr th {\n",
       "        vertical-align: top;\n",
       "    }\n",
       "\n",
       "    .dataframe thead th {\n",
       "        text-align: right;\n",
       "    }\n",
       "</style>\n",
       "<table border=\"1\" class=\"dataframe\">\n",
       "  <thead>\n",
       "    <tr style=\"text-align: right;\">\n",
       "      <th></th>\n",
       "      <th>geometry</th>\n",
       "      <th>elect_dist</th>\n",
       "      <th>shape_area</th>\n",
       "      <th>shape_leng</th>\n",
       "      <th>area_in_sqkm</th>\n",
       "    </tr>\n",
       "  </thead>\n",
       "  <tbody>\n",
       "    <tr>\n",
       "      <th>0</th>\n",
       "      <td>MULTIPOLYGON (((-73.91701 40.55634, -73.91626 ...</td>\n",
       "      <td>23001</td>\n",
       "      <td>26134716.3221</td>\n",
       "      <td>25826.4985864</td>\n",
       "      <td>4.194</td>\n",
       "    </tr>\n",
       "    <tr>\n",
       "      <th>1</th>\n",
       "      <td>MULTIPOLYGON (((-73.92033 40.56223, -73.92037 ...</td>\n",
       "      <td>23002</td>\n",
       "      <td>5637462.91598</td>\n",
       "      <td>13932.1304559</td>\n",
       "      <td>0.905</td>\n",
       "    </tr>\n",
       "    <tr>\n",
       "      <th>2</th>\n",
       "      <td>MULTIPOLYGON (((-73.88313 40.56838, -73.88281 ...</td>\n",
       "      <td>23003</td>\n",
       "      <td>25240784.1746</td>\n",
       "      <td>42767.2955629</td>\n",
       "      <td>4.051</td>\n",
       "    </tr>\n",
       "    <tr>\n",
       "      <th>3</th>\n",
       "      <td>MULTIPOLYGON (((-73.86495 40.56663, -73.86509 ...</td>\n",
       "      <td>23004</td>\n",
       "      <td>15150588.9605</td>\n",
       "      <td>27563.6352913</td>\n",
       "      <td>2.432</td>\n",
       "    </tr>\n",
       "    <tr>\n",
       "      <th>4</th>\n",
       "      <td>MULTIPOLYGON (((-73.85901 40.57799, -73.85976 ...</td>\n",
       "      <td>23005</td>\n",
       "      <td>6169616.81637</td>\n",
       "      <td>16350.3899998</td>\n",
       "      <td>0.991</td>\n",
       "    </tr>\n",
       "  </tbody>\n",
       "</table>\n",
       "</div>"
      ],
      "text/plain": [
       "                                            geometry elect_dist  \\\n",
       "0  MULTIPOLYGON (((-73.91701 40.55634, -73.91626 ...      23001   \n",
       "1  MULTIPOLYGON (((-73.92033 40.56223, -73.92037 ...      23002   \n",
       "2  MULTIPOLYGON (((-73.88313 40.56838, -73.88281 ...      23003   \n",
       "3  MULTIPOLYGON (((-73.86495 40.56663, -73.86509 ...      23004   \n",
       "4  MULTIPOLYGON (((-73.85901 40.57799, -73.85976 ...      23005   \n",
       "\n",
       "      shape_area     shape_leng  area_in_sqkm  \n",
       "0  26134716.3221  25826.4985864         4.194  \n",
       "1  5637462.91598  13932.1304559         0.905  \n",
       "2  25240784.1746  42767.2955629         4.051  \n",
       "3  15150588.9605  27563.6352913         2.432  \n",
       "4  6169616.81637  16350.3899998         0.991  "
      ]
     },
     "execution_count": 30,
     "metadata": {},
     "output_type": "execute_result"
    }
   ],
   "source": [
    "ed_nyc_od_gpd.head()"
   ]
  },
  {
   "cell_type": "code",
   "execution_count": 31,
   "metadata": {},
   "outputs": [
    {
     "data": {
      "text/plain": [
       "5840"
      ]
     },
     "execution_count": 31,
     "metadata": {},
     "output_type": "execute_result"
    }
   ],
   "source": [
    "# number of unique ED's\n",
    "ed_nyc_od_gpd['elect_dist'].nunique()"
   ]
  },
  {
   "cell_type": "markdown",
   "metadata": {},
   "source": [
    "Plot the map."
   ]
  },
  {
   "cell_type": "code",
   "execution_count": null,
   "metadata": {},
   "outputs": [],
   "source": [
    "fig, ax = plt.subplots(figsize=(12, 12))\n",
    "\n",
    "ax.set_aspect('equal')\n",
    "\n",
    "ed_nyc_od_gpd.plot(ax=ax, color='white', edgecolor='black', linewidth=0.75, alpha=0.8)\n",
    "\n",
    "plt.title(\"Election Districts of NYC as of June 2021\")"
   ]
  },
  {
   "cell_type": "markdown",
   "metadata": {},
   "source": [
    "### 1.2. Import Census Tracts Shapefile from NYC Open Data. *Source: Decennial Census 2010*"
   ]
  },
  {
   "cell_type": "code",
   "execution_count": null,
   "metadata": {},
   "outputs": [],
   "source": [
    "census_tracts_2010_gpd = import_shapefile_and_area_in_sqkm(\"fxpq-c8ku\")"
   ]
  },
  {
   "cell_type": "code",
   "execution_count": null,
   "metadata": {},
   "outputs": [],
   "source": [
    "census_tracts_2010_gpd.shape"
   ]
  },
  {
   "cell_type": "code",
   "execution_count": null,
   "metadata": {},
   "outputs": [],
   "source": [
    "census_tracts_2010_gpd.head()"
   ]
  },
  {
   "cell_type": "markdown",
   "metadata": {},
   "source": [
    "Plot the map."
   ]
  },
  {
   "cell_type": "code",
   "execution_count": null,
   "metadata": {},
   "outputs": [],
   "source": [
    "fig, ax = plt.subplots(figsize=(13, 13))\n",
    "ax.set_aspect('equal')\n",
    "census_tracts_2010_gpd.plot(ax=ax, color='white', edgecolor='black', linewidth=0.75, alpha=0.8)\n",
    "plt.title(\"Census Tracts of NYC - Decennial Census 2010\")"
   ]
  },
  {
   "cell_type": "code",
   "execution_count": null,
   "metadata": {},
   "outputs": [],
   "source": [
    "census_tracts_2010_gpd.crs"
   ]
  },
  {
   "cell_type": "code",
   "execution_count": null,
   "metadata": {},
   "outputs": [],
   "source": [
    "census_tracts_2010_gpd.shape"
   ]
  },
  {
   "cell_type": "markdown",
   "metadata": {},
   "source": [
    "### 2. *Overlay* both Election Districts and Census Tracts shapefiles"
   ]
  },
  {
   "cell_type": "markdown",
   "metadata": {},
   "source": [
    "From Geopandas [documentation](https://geopandas.org/gallery/overlays.html) on overlaying geographical areas:\n",
    "\n",
    "\"Spatial overlays allow you to compare two GeoDataFrames containing polygon or multipolygon geometries and create a new GeoDataFrame with the new geometries representing the spatial combination and merged properties.\""
   ]
  },
  {
   "cell_type": "markdown",
   "metadata": {},
   "source": [
    "![Overlay Methods](img/overlay.jpg)"
   ]
  },
  {
   "cell_type": "code",
   "execution_count": null,
   "metadata": {},
   "outputs": [],
   "source": [
    "#join on left (how much area in the left level occupies on the right level)\n",
    "eds_to_tracts_intersection = geopandas.overlay(ed_nyc_od_gpd, census_tracts_2010_gpd, how='intersection')"
   ]
  },
  {
   "cell_type": "code",
   "execution_count": null,
   "metadata": {},
   "outputs": [],
   "source": [
    "eds_to_tracts_intersection.head(3)"
   ]
  },
  {
   "cell_type": "code",
   "execution_count": null,
   "metadata": {},
   "outputs": [],
   "source": [
    "ax = eds_to_tracts_intersection.plot(alpha=0.7, figsize=(13, 13))\n",
    "\n",
    "ed_nyc_od_gpd.plot(ax=ax, facecolor='none', edgecolor='g')\n",
    "census_tracts_2010_gpd.plot(ax=ax, facecolor='none', edgecolor='w')\n",
    "\n",
    "plt.title(\"Map of Election Districts (green border) and Census Tracts (white border) Overlapped\")"
   ]
  },
  {
   "cell_type": "markdown",
   "metadata": {},
   "source": [
    "If there were any areas that were not filled with blue color, that would indicate that there's no overlapping boundaries between census tracts and election districts."
   ]
  },
  {
   "cell_type": "markdown",
   "metadata": {},
   "source": [
    "### 3. After overlaying, calculate the intersection area into square km and identify the election district-to-tract ratio"
   ]
  },
  {
   "cell_type": "code",
   "execution_count": null,
   "metadata": {},
   "outputs": [],
   "source": [
    "# calculate intersection area into square km\n",
    "eds_to_tracts_intersection['intersection_sqkm'] = \\\n",
    "                eds_to_tracts_intersection['geometry'].to_crs({'init': 'epsg:3395'})\\\n",
    "               .map(lambda p: p.area / 10**6)"
   ]
  },
  {
   "cell_type": "code",
   "execution_count": null,
   "metadata": {},
   "outputs": [],
   "source": [
    "eds_to_tracts_intersection.head()"
   ]
  },
  {
   "cell_type": "markdown",
   "metadata": {},
   "source": [
    "Add a metric to show a) the proportion of a single ED that falls in a census tract"
   ]
  },
  {
   "cell_type": "code",
   "execution_count": null,
   "metadata": {},
   "outputs": [],
   "source": [
    "eds_to_tracts_intersection['elect_dist_area_percent_of_tract_km'] = \\\n",
    "    eds_to_tracts_intersection['intersection_sqkm']/eds_to_tracts_intersection['area_in_sqkm_2']"
   ]
  },
  {
   "cell_type": "markdown",
   "metadata": {},
   "source": [
    "Rearrange the order of the dataframe by borough, census tract and the election district."
   ]
  },
  {
   "cell_type": "code",
   "execution_count": null,
   "metadata": {},
   "outputs": [],
   "source": [
    "eds_to_tracts_intersection_groupby = eds_to_tracts_intersection.dissolve(\n",
    "    by=['boro_name', 'boro_ct2010', 'ct2010', 'elect_dist'],\n",
    "    aggfunc='sum'\n",
    "    ).reset_index()"
   ]
  },
  {
   "cell_type": "code",
   "execution_count": null,
   "metadata": {},
   "outputs": [],
   "source": [
    "eds_to_tracts_intersection_groupby.shape"
   ]
  },
  {
   "cell_type": "code",
   "execution_count": null,
   "metadata": {},
   "outputs": [],
   "source": [
    "eds_to_tracts_intersection_groupby.head()"
   ]
  },
  {
   "cell_type": "markdown",
   "metadata": {},
   "source": [
    "Perform a quick QA to check that the proportions of a all ED's sum up to 1 (i.e. 100%). If it does, then it shows that all the ED's of NYC are completely mapped to one or more census tracts"
   ]
  },
  {
   "cell_type": "code",
   "execution_count": null,
   "metadata": {},
   "outputs": [],
   "source": [
    "election_district_proportions_QA = eds_to_tracts_intersection_groupby\\\n",
    "    .groupby(['boro_ct2010'])['elect_dist_area_percent_of_tract_km'].sum().reset_index()\\\n",
    "    .sort_values('elect_dist_area_percent_of_tract_km', ascending=True)"
   ]
  },
  {
   "cell_type": "code",
   "execution_count": null,
   "metadata": {},
   "outputs": [],
   "source": [
    "election_district_proportions_QA.head()"
   ]
  },
  {
   "cell_type": "code",
   "execution_count": null,
   "metadata": {},
   "outputs": [],
   "source": [
    "# subtracting 0.01 from the lower bound and adding 0.01 to upper bound to account for rounding issues in \"elect_dist_area_percent_as_a_whole_km\"\n",
    "election_district_proportions_QA[(election_district_proportions_QA['elect_dist_area_percent_of_tract_km'] < 0.99) | \\\n",
    "                                 (election_district_proportions_QA['elect_dist_area_percent_of_tract_km'] > 1.01)]"
   ]
  },
  {
   "cell_type": "markdown",
   "metadata": {},
   "source": [
    "Given the search results are empty, it shows that all election districts were able to map completely to the census tracts."
   ]
  },
  {
   "cell_type": "markdown",
   "metadata": {},
   "source": [
    "### 4. Demo: Plot the intersection areas of sample neighborhood to show how the data can be distributed to a different geographic level"
   ]
  },
  {
   "cell_type": "markdown",
   "metadata": {},
   "source": [
    "Prospect Heights is a neighborhood in Brooklyn"
   ]
  },
  {
   "cell_type": "code",
   "execution_count": null,
   "metadata": {},
   "outputs": [],
   "source": [
    "prospect_heights_ed = ed_nyc_od_gpd[ed_nyc_od_gpd['elect_dist'].isin(['57071'])]\n",
    "prospect_heights_census_tracts = census_tracts_2010_gpd[census_tracts_2010_gpd['ntaname'] == 'Prospect Heights']\n",
    "\n",
    "#intersect the two election districts with census tracts of Prospect Heights\n",
    "prospect_heights_ed_and_tracts_intersection = geopandas.overlay(prospect_heights_ed, \\\n",
    "                                                                prospect_heights_census_tracts, how='intersection')"
   ]
  },
  {
   "cell_type": "code",
   "execution_count": null,
   "metadata": {},
   "outputs": [],
   "source": [
    "ax = prospect_heights_ed_and_tracts_intersection.plot(figsize=(10, 10))\n",
    "\n",
    "# plot the ED's and census tracts of Prospect Heights\n",
    "prospect_heights_ed.plot(ax=ax, facecolor='none', edgecolor='r')\n",
    "\n",
    "prospect_heights_census_tracts.plot(ax=ax, facecolor='none', edgecolor='k')\n",
    "plt.title(\"An Election District (in blue) in Prospect Heights\")\n",
    "\n",
    "prospect_heights_census_tracts.apply(lambda x: ax.annotate(s=x['boro_ct2010'], \\\n",
    "        xy=x.geometry.centroid.coords[0], ha='right'),axis=1);\n",
    "\n",
    "# Calculate the intersection area of election districts and census tracts in square kilometer\n",
    "prospect_heights_ed_and_tracts_intersection['intersection_sqkm'] = \\\n",
    "        prospect_heights_ed_and_tracts_intersection['geometry'].to_crs({'init': 'epsg:3395'})\\\n",
    "       .map(lambda p: p.area / 10**6)\n",
    "\n",
    "# calculate the metrics that show proportion of each election district and census tract \n",
    "prospect_heights_ed_and_tracts_intersection['elect_dist_area_percent_of_tract_km'] = \\\n",
    "        prospect_heights_ed_and_tracts_intersection['intersection_sqkm']/\\\n",
    "        prospect_heights_ed_and_tracts_intersection['area_in_sqkm_2']\n",
    "\n",
    "#annonate the first metric i.e. \"what percent of census tract is occupied by the election district?\" on the map\n",
    "prospect_heights_ed_and_tracts_intersection.apply(\\\n",
    "                lambda x: ax.annotate(s=round(x['elect_dist_area_percent_of_tract_km'], 2),\\\n",
    "                xy=x.geometry.centroid.coords[0], ha='left', color='w'),axis=1);"
   ]
  },
  {
   "cell_type": "markdown",
   "metadata": {},
   "source": [
    "The visualization above is of one election district (i.e. 57071) in Prospect Heights. In order to apportion the data from the Census Tract 3016300 to the election district, we'll multiply the data by 0.15. That is the share of the census tract area given to that election district.\n",
    "\n",
    "E.g. If there are 1,500 residents who speak Russian in Census Tract 3016300, then the number of Russian speakers in the Election District 57071 will be 225."
   ]
  }
 ],
 "metadata": {
  "kernelspec": {
   "display_name": "Python 3 (ipykernel)",
   "language": "python",
   "name": "python3"
  },
  "language_info": {
   "codemirror_mode": {
    "name": "ipython",
    "version": 3
   },
   "file_extension": ".py",
   "mimetype": "text/x-python",
   "name": "python",
   "nbconvert_exporter": "python",
   "pygments_lexer": "ipython3",
   "version": "3.9.7"
  }
 },
 "nbformat": 4,
 "nbformat_minor": 2
}
