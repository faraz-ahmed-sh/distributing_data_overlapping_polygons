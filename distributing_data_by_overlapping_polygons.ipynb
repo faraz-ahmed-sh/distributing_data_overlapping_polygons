{
 "cells": [
  {
   "cell_type": "code",
   "execution_count": 1,
   "metadata": {},
   "outputs": [],
   "source": [
    "import pandas as pd\n",
    "import geopandas\n",
    "from shapely.geometry import Point\n",
    "import matplotlib.pyplot as plt\n",
    "import requests\n",
    "import fiona\n",
    "pd.set_option('display.float_format', lambda x: '%.3f' % x)"
   ]
  },
  {
   "cell_type": "markdown",
   "metadata": {},
   "source": [
    "### Background"
   ]
  },
  {
   "cell_type": "markdown",
   "metadata": {},
   "source": [
    "- The code in this notebook was used to come up with a method (\"land area overlap\") to distribute the ACS data on limited English proficient (LEP) speakers at the Census Tract level to the Election Districts level in NYC. The land area overlap method calculates how much one geographical area for which we have data shares boundaries with another geographical area.\n",
    "- The information at the Election Districts can be used to understand what poll sites (made up of a combination of Election Districts) will benefit the most from providing language interpreters.\n",
    "- While this method does not take into account the population density of an area in proportioning data, it is still a highly useful and relevant method, especially when the data on population density does not exist or if the geographical areas follow the same population density distribution."
   ]
  },
  {
   "cell_type": "markdown",
   "metadata": {},
   "source": [
    "### 1. Import Election Districts Data and Census Tracts Data (as of Decennial Census 2010) from the NYC Open Data Portal."
   ]
  },
  {
   "cell_type": "markdown",
   "metadata": {},
   "source": [
    "[Election Districts](https://data.cityofnewyork.us/City-Government/Election-Districts/h2n3-98hq): The geographical area used by the NY State Board of Elections to determine placement of poll sites. There are 5,840 election districts that roll up to over 1,000 poll sites in Primary and General election periods."
   ]
  },
  {
   "cell_type": "markdown",
   "metadata": {},
   "source": [
    "[Census Tracts](https://data.cityofnewyork.us/City-Government/2010-Census-Tracts/fxpq-c8ku): The census tracts are small, permanent geographical unit of a county or its geographical equivalent. According to the Census Bureau, the number of people that reside in a census tract is between 1,200 and 8,000. There are 2,175 census tracts in NYC. \n",
    "\n",
    "Analyzing data for smaller geographies can allow for better analysis and census tracts tend to be great in that sense. However, their results should be interpreted with caution when using ACS estimates due to its small sample size.\n",
    "\n",
    "Variables of interest:\n",
    "- boro_code: A code associated with each of the five boroughs. (Manhattan = 1, Bronx=2, Brooklyn=3, Queens=4, Staten Island=5)\n",
    "- boro_ct2010: a unique identifier for each census tract number given that a census tract number may not be unique.\n",
    "- boro_name: name of one of the five boroughs of NYC\n",
    "- ct2010: census tract number\n",
    "- ctlabel: truncated census tract number"
   ]
  },
  {
   "cell_type": "code",
   "execution_count": 2,
   "metadata": {},
   "outputs": [
    {
     "ename": "NameError",
     "evalue": "name 'census_tracts_2010_gpd' is not defined",
     "output_type": "error",
     "traceback": [
      "\u001b[1;31m---------------------------------------------------------------------------\u001b[0m",
      "\u001b[1;31mNameError\u001b[0m                                 Traceback (most recent call last)",
      "\u001b[1;32m<ipython-input-2-a243936da18c>\u001b[0m in \u001b[0;36m<module>\u001b[1;34m()\u001b[0m\n\u001b[1;32m----> 1\u001b[1;33m \u001b[0mcensus_tracts_2010_gpd\u001b[0m\u001b[1;33m.\u001b[0m\u001b[0mhead\u001b[0m\u001b[1;33m(\u001b[0m\u001b[1;33m)\u001b[0m\u001b[1;33m\u001b[0m\u001b[0m\n\u001b[0m",
      "\u001b[1;31mNameError\u001b[0m: name 'census_tracts_2010_gpd' is not defined"
     ]
    }
   ],
   "source": [
    "census_tracts_2010_gpd.head()"
   ]
  },
  {
   "cell_type": "markdown",
   "metadata": {},
   "source": [
    "### 1.1. Import Election Districts Shapefile (clipped to the shore) from NYC Open Data.  *Data Source: Decennial Census 2010*"
   ]
  },
  {
   "cell_type": "code",
   "execution_count": null,
   "metadata": {},
   "outputs": [],
   "source": [
    "def import_shapefile_and_area_in_sqkm(four_by_four_code):\n",
    "    '''\n",
    "    Import a shapefile and calculate the area in square kilometer for each tile. \n",
    "    \n",
    "    Input:\n",
    "        - four_by_four_code: a string that contains 8 alphanumeric letters assigned \n",
    "           to each open dataset on NYC Open Data Portal.\n",
    "    \n",
    "    Returns:\n",
    "        - a geopandas dataframe.\n",
    "    \n",
    "    '''\n",
    "    \n",
    "    # import the shapefile as GeoJSON from the open data portal\n",
    "    request = requests.get(\"https://data.cityofnewyork.us/api/geospatial/\" + \\\n",
    "                           four_by_four_code + \"?method=export&format=GeoJSON\")\n",
    "    \n",
    "    visz = fiona.ogrext.buffer_to_virtual_file(bytes(request.content))\n",
    "    \n",
    "    # read the features from a fiona collection into a GeoDataFrame\n",
    "    with fiona.Collection(visz, driver='GeoJSON') as f:\n",
    "        nyc_opendata_gpd = geopandas.GeoDataFrame.from_features(f, crs=f.crs)\n",
    "    \n",
    "    print(\"coordinate reference system of the shapefile: \", nyc_opendata_gpd.crs)\n",
    "    \n",
    "    # convert the geometry into an equal projection area, and then meter square into kilometer square\n",
    "\n",
    "    # source: https://gis.stackexchange.com/questions/218450/getting-polygon-areas-using-geopandas\n",
    "    nyc_opendata_gpd['area_in_sqkm'] = nyc_opendata_gpd['geometry'].to_crs({'init': 'epsg:3395'})\\\n",
    "                   .map(lambda p: p.area / 10**6)\n",
    "    \n",
    "    return nyc_opendata_gpd"
   ]
  },
  {
   "cell_type": "code",
   "execution_count": null,
   "metadata": {},
   "outputs": [],
   "source": [
    "ed_nyc_od_gpd = import_shapefile_and_area_in_sqkm(\"h2n3-98hq\")"
   ]
  },
  {
   "cell_type": "code",
   "execution_count": null,
   "metadata": {},
   "outputs": [],
   "source": [
    "ed_nyc_od_gpd.head()"
   ]
  },
  {
   "cell_type": "code",
   "execution_count": null,
   "metadata": {},
   "outputs": [],
   "source": [
    "# number of unique ED's\n",
    "ed_nyc_od_gpd['elect_dist'].nunique()"
   ]
  },
  {
   "cell_type": "markdown",
   "metadata": {},
   "source": [
    "Plot the map."
   ]
  },
  {
   "cell_type": "code",
   "execution_count": null,
   "metadata": {},
   "outputs": [],
   "source": [
    "fig, ax = plt.subplots(figsize=(12, 12))\n",
    "\n",
    "ax.set_aspect('equal')\n",
    "\n",
    "ed_nyc_od_gpd.plot(ax=ax, color='white', edgecolor='black', linewidth=0.75, alpha=0.8)\n",
    "\n",
    "plt.title(\"Election Districts of NYC as of June 2021\")"
   ]
  },
  {
   "cell_type": "markdown",
   "metadata": {},
   "source": [
    "### 1.2. Import Census Tracts Shapefile from NYC Open Data (2,165 unique Census Tract's). *Data Source: Decennial Census 2010*"
   ]
  },
  {
   "cell_type": "code",
   "execution_count": null,
   "metadata": {},
   "outputs": [],
   "source": [
    "census_tracts_2010_gpd = import_shapefile_and_area_in_sqkm(\"fxpq-c8ku\")"
   ]
  },
  {
   "cell_type": "code",
   "execution_count": null,
   "metadata": {},
   "outputs": [],
   "source": [
    "census_tracts_2010_gpd.head()"
   ]
  },
  {
   "cell_type": "markdown",
   "metadata": {},
   "source": [
    "Plot the map."
   ]
  },
  {
   "cell_type": "code",
   "execution_count": null,
   "metadata": {},
   "outputs": [],
   "source": [
    "fig, ax = plt.subplots(figsize=(13, 13))\n",
    "ax.set_aspect('equal')\n",
    "census_tracts_2010_gpd.plot(ax=ax, color='white', edgecolor='black', linewidth=0.75, alpha=0.8)\n",
    "plt.title(\"Census Tracts of NYC - Decennial Census 2010\")"
   ]
  },
  {
   "cell_type": "code",
   "execution_count": null,
   "metadata": {},
   "outputs": [],
   "source": [
    "census_tracts_2010_gpd.crs"
   ]
  },
  {
   "cell_type": "code",
   "execution_count": null,
   "metadata": {},
   "outputs": [],
   "source": [
    "census_tracts_2010_gpd.shape"
   ]
  },
  {
   "cell_type": "markdown",
   "metadata": {},
   "source": [
    "### 2. Overlay both Election Districts and Census Tracts shapefiles"
   ]
  },
  {
   "cell_type": "markdown",
   "metadata": {},
   "source": [
    "What does the overlay function do?\n",
    "Argument of 'how'?"
   ]
  },
  {
   "cell_type": "code",
   "execution_count": null,
   "metadata": {},
   "outputs": [],
   "source": [
    "eds_to_tracts_intersection = geopandas.overlay(ed_nyc_od_gpd, census_tracts_2010_gpd, how='intersection')"
   ]
  },
  {
   "cell_type": "code",
   "execution_count": null,
   "metadata": {},
   "outputs": [],
   "source": [
    "eds_to_tracts_intersection.head(5)"
   ]
  },
  {
   "cell_type": "code",
   "execution_count": null,
   "metadata": {},
   "outputs": [],
   "source": [
    "ax = eds_to_tracts_intersection.plot(alpha=0.7, figsize=(13, 13))\n",
    "\n",
    "ed_nyc_od_gpd.plot(ax=ax, facecolor='none', edgecolor='g')\n",
    "census_tracts_2010_gpd.plot(ax=ax, facecolor='none', edgecolor='w')\n",
    "\n",
    "plt.title(\"Map of Election Districts (green border) and Census Tracts (white border) Overlapped\")"
   ]
  },
  {
   "cell_type": "markdown",
   "metadata": {},
   "source": [
    "If there were any areas that were not filled with blue color, that would indicate that there's no overlapping boundaries."
   ]
  },
  {
   "cell_type": "markdown",
   "metadata": {},
   "source": [
    "### 3. After overlaying, calculate the intersection area into square km and identify the census tract-to-election district ratio (i.e. percentage of census tract that shares boundaries with an election district)"
   ]
  },
  {
   "cell_type": "code",
   "execution_count": null,
   "metadata": {},
   "outputs": [],
   "source": [
    "# calculate intersection area into square km\n",
    "eds_to_tracts_intersection['intersection_sqkm'] = \\\n",
    "                eds_to_tracts_intersection['geometry'].to_crs({'init': 'epsg:3395'})\\\n",
    "               .map(lambda p: p.area / 10**6)"
   ]
  },
  {
   "cell_type": "code",
   "execution_count": null,
   "metadata": {},
   "outputs": [],
   "source": [
    "eds_to_tracts_intersection.head()"
   ]
  },
  {
   "cell_type": "markdown",
   "metadata": {},
   "source": [
    "Add two metrics to show a) the proportion of a single ED that falls in a census tract and b) the proportion of a single census tract that is occupied by the census tract."
   ]
  },
  {
   "cell_type": "code",
   "execution_count": null,
   "metadata": {},
   "outputs": [],
   "source": [
    "eds_to_tracts_intersection['elect_dist_area_percent_of_tract_km'] = \\\n",
    "    eds_to_tracts_intersection['intersection_sqkm']/eds_to_tracts_intersection['area_in_sqkm_2']\n",
    "\n",
    "eds_to_tracts_intersection['elect_dist_area_percent_as_a_whole_km'] = \\\n",
    "    eds_to_tracts_intersection['intersection_sqkm']/eds_to_tracts_intersection['area_in_sqkm_1']"
   ]
  },
  {
   "cell_type": "markdown",
   "metadata": {},
   "source": [
    "Rearrange the order of the dataframe by borough, census tract and the election district."
   ]
  },
  {
   "cell_type": "code",
   "execution_count": null,
   "metadata": {},
   "outputs": [],
   "source": [
    "eds_to_tracts_intersection_groupby = eds_to_tracts_intersection.dissolve(\n",
    "    by=['boro_name', 'boro_ct2010', 'ct2010', 'elect_dist'],\n",
    "    aggfunc='sum'\n",
    "    ).reset_index()"
   ]
  },
  {
   "cell_type": "code",
   "execution_count": null,
   "metadata": {},
   "outputs": [],
   "source": [
    "eds_to_tracts_intersection_groupby.shape"
   ]
  },
  {
   "cell_type": "code",
   "execution_count": null,
   "metadata": {},
   "outputs": [],
   "source": [
    "eds_to_tracts_intersection_groupby.head()"
   ]
  },
  {
   "cell_type": "markdown",
   "metadata": {},
   "source": [
    "Perform a quick QA to check that the proportions of a all ED's sum up to 1 (i.e. 100%). If it does, then it shows that all the ED's of NYC are completely mapped to one or more census tracts"
   ]
  },
  {
   "cell_type": "code",
   "execution_count": null,
   "metadata": {},
   "outputs": [],
   "source": [
    "election_district_proportions_QA = eds_to_tracts_intersection_groupby\\\n",
    "    .groupby(['elect_dist'])['elect_dist_area_percent_as_a_whole_km'].sum().reset_index()\\\n",
    "    .sort_values('elect_dist_area_percent_as_a_whole_km', ascending=True)"
   ]
  },
  {
   "cell_type": "code",
   "execution_count": null,
   "metadata": {},
   "outputs": [],
   "source": [
    "election_district_proportions_QA.head()"
   ]
  },
  {
   "cell_type": "code",
   "execution_count": null,
   "metadata": {},
   "outputs": [],
   "source": [
    "# subtracting 0.01 from the lower bound and adding 0.01 to upper bound to account for rounding issues in \"elect_dist_area_percent_as_a_whole_km\"\n",
    "election_district_proportions_QA[(election_district_proportions_QA['elect_dist_area_percent_as_a_whole_km'] < 0.99) | \\\n",
    "                                 (election_district_proportions_QA['elect_dist_area_percent_as_a_whole_km'] > 1.01)]"
   ]
  },
  {
   "cell_type": "markdown",
   "metadata": {},
   "source": [
    "Given the search results are empty, it shows that all ED's were able to map completely to the census tracts."
   ]
  },
  {
   "cell_type": "code",
   "execution_count": null,
   "metadata": {},
   "outputs": [],
   "source": []
  },
  {
   "cell_type": "markdown",
   "metadata": {},
   "source": [
    "### 4. Demo: Plot the intersection areas of sample neighborhood to show how the data can be distributed to a different geographic level"
   ]
  },
  {
   "cell_type": "code",
   "execution_count": null,
   "metadata": {},
   "outputs": [],
   "source": [
    "# Prospect Heights is a neighborhood in central Brooklyn\n",
    "\n",
    "prospect_heights_ed = ed_nyc_od_gpd[ed_nyc_od_gpd['elect_dist'].isin(['57063', '57071'])]\n",
    "prospect_heights_census_tracts = census_tracts_2010_gpd[census_tracts_2010_gpd['ntaname'] == 'Prospect Heights']\n",
    "\n",
    "#intersect the ED's and census tracts of Prospect Heights\n",
    "prospect_heights_ed_and_tracts_intersection = geopandas.overlay(prospect_heights_ed, \\\n",
    "                                                                prospect_heights_census_tracts, how='intersection')"
   ]
  },
  {
   "cell_type": "code",
   "execution_count": null,
   "metadata": {},
   "outputs": [],
   "source": [
    "ax = prospect_heights_ed_and_tracts_intersection.plot(figsize=(10, 10))\n",
    "\n",
    "# plot the ED's and census tracts of Prospect Heights\n",
    "prospect_heights_ed.plot(ax=ax, facecolor='none', edgecolor='r');\n",
    "# prospect_heights_ed.apply(lambda x: ax.annotate(s=x['elect_dist'], \\\n",
    "#                 xy=x.geometry.centroid.coords[0], ha='center', color='w'),axis=1);\n",
    "\n",
    "prospect_heights_census_tracts.plot(ax=ax, facecolor='none', edgecolor='k');\n",
    "prospect_heights_census_tracts.apply(lambda x: ax.annotate(s=x['boro_ct2010'], \\\n",
    "                xy=x.geometry.centroid.coords[0], ha='right'),axis=1);\n",
    "# Calculate the intersection area of ED's and census tracts in square kilometer\n",
    "prospect_heights_ed_and_tracts_intersection['intersection_sqkm'] = \\\n",
    "                prospect_heights_ed_and_tracts_intersection['geometry'].to_crs({'init': 'epsg:3395'})\\\n",
    "               .map(lambda p: p.area / 10**6)\n",
    "\n",
    "# identify the metrics that show proportion of each ED and census tract \n",
    "prospect_heights_ed_and_tracts_intersection['elect_dist_area_percent_of_tract_km'] = \\\n",
    "                prospect_heights_ed_and_tracts_intersection['intersection_sqkm']/\\\n",
    "                prospect_heights_ed_and_tracts_intersection['area_in_sqkm_2']\n",
    "\n",
    "prospect_heights_ed_and_tracts_intersection['elect_dist_area_percent_as_a_whole_km'] = \\\n",
    "                prospect_heights_ed_and_tracts_intersection['intersection_sqkm']/\\\n",
    "                prospect_heights_ed_and_tracts_intersection['area_in_sqkm_1']\n",
    "\n",
    "#annonate the first metric \"proportion of election district that belongs to a census tract\" results calculated above on the map\n",
    "prospect_heights_ed_and_tracts_intersection.apply(\\\n",
    "                lambda x: ax.annotate(s=round(x['elect_dist_area_percent_of_tract_km'], 2),\\\n",
    "                xy=x.geometry.centroid.coords[0], ha='left', color='w'),axis=1);"
   ]
  },
  {
   "cell_type": "markdown",
   "metadata": {},
   "source": [
    "The visualization above is of only two election districts (the horizontal election district above, 57063, and the one below, 57071) in Prospect Heights. In order to proportion the data from the Census Tract 3016300 to the above horizontal ED, we'll multiply the data by 0.15. \n",
    "\n",
    "E.g. If there are 1,500 language speakers who speak Russian in Census Tract 3016300, then the number of Russian speakers in the Election District 57063 will be 225."
   ]
  }
 ],
 "metadata": {
  "kernelspec": {
   "display_name": "Python 3",
   "language": "python",
   "name": "python3"
  },
  "language_info": {
   "codemirror_mode": {
    "name": "ipython",
    "version": 3
   },
   "file_extension": ".py",
   "mimetype": "text/x-python",
   "name": "python",
   "nbconvert_exporter": "python",
   "pygments_lexer": "ipython3",
   "version": "3.7.0"
  }
 },
 "nbformat": 4,
 "nbformat_minor": 2
}
